{
 "cells": [
  {
   "cell_type": "code",
   "execution_count": 109,
   "metadata": {},
   "outputs": [],
   "source": [
    "from bs4 import BeautifulSoup\n",
    "import requests\n",
    "import pandas as pd\n",
    "import re"
   ]
  },
  {
   "cell_type": "code",
   "execution_count": 2,
   "metadata": {},
   "outputs": [],
   "source": [
    "HEADERS = ({'User-Agent':\n",
    "            'Mozilla/5.0 (X11; Linux x86_64) AppleWebKit/537.36 (KHTML, like Gecko) Chrome/44.0.2403.157 Safari/537.36',\n",
    "            'Accept-Language': 'en-US, en;q=0.5'})"
   ]
  },
  {
   "cell_type": "markdown",
   "metadata": {},
   "source": [
    "## Amazon Reviews"
   ]
  },
  {
   "cell_type": "code",
   "execution_count": 3,
   "metadata": {},
   "outputs": [],
   "source": [
    "URL = \"https://www.amazon.com/Python-Data-Science-Essentials-practitioners-ebook/dp/B07H5KBDVL/\"\n",
    "webpage = requests.get(URL, headers=HEADERS)"
   ]
  },
  {
   "cell_type": "code",
   "execution_count": 4,
   "metadata": {},
   "outputs": [],
   "source": [
    "soup = BeautifulSoup(webpage.content, \"lxml\")"
   ]
  },
  {
   "cell_type": "code",
   "execution_count": 99,
   "metadata": {},
   "outputs": [],
   "source": [
    "reviews=[]"
   ]
  },
  {
   "cell_type": "code",
   "execution_count": 100,
   "metadata": {},
   "outputs": [],
   "source": [
    "title = soup.find(\"span\", attrs={\"id\":'productTitle'}).string.strip()\n",
    "reviews.append(title)"
   ]
  },
  {
   "cell_type": "code",
   "execution_count": 101,
   "metadata": {},
   "outputs": [],
   "source": [
    "review_date = soup.find(\"span\", attrs={'data-hook':'review-date'}).string.strip()\n",
    "reviews.append(review_date)"
   ]
  },
  {
   "cell_type": "code",
   "execution_count": 102,
   "metadata": {},
   "outputs": [],
   "source": [
    "customer_name = soup.find(\"span\", attrs={'class':'a-profile-name'}).string.strip()\n",
    "reviews.append(customer_name)"
   ]
  },
  {
   "cell_type": "code",
   "execution_count": 103,
   "metadata": {},
   "outputs": [],
   "source": [
    "review_title = soup.find(\"a\", attrs={'data-hook':'review-title'})\n",
    "review_title = review_title.text.strip('\\n')\n",
    "reviews.append(review_title)"
   ]
  },
  {
   "cell_type": "code",
   "execution_count": 104,
   "metadata": {},
   "outputs": [],
   "source": [
    "review = soup.find(\"span\", attrs={'data-hook':'review-body'})\n",
    "review = review.text.strip().replace('\\n', '')\n",
    "reviews.append(review)"
   ]
  },
  {
   "cell_type": "code",
   "execution_count": 105,
   "metadata": {},
   "outputs": [],
   "source": [
    "rating = soup.find(\"span\", attrs={'class':'a-icon-alt'}).string.strip()\n",
    "reviews.append(rating)"
   ]
  },
  {
   "cell_type": "code",
   "execution_count": 106,
   "metadata": {},
   "outputs": [],
   "source": [
    "review_count = soup.find(\"span\", attrs={'id':'acrCustomerReviewText'}).string.strip()\n",
    "reviews.append(review_count)"
   ]
  },
  {
   "cell_type": "code",
   "execution_count": 107,
   "metadata": {},
   "outputs": [
    {
     "data": {
      "text/plain": [
       "['Python Data Science Essentials: A practitioner’s guide covering essential data science principles, tools, and techniques, 3rd Edition',\n",
       " 'Reviewed in the United States on March 16, 2021',\n",
       " 'Amidu Mac Morrison',\n",
       " 'Excellent Purchase',\n",
       " 'Great product that worth the price.Read more',\n",
       " '5.0 out of 5 stars',\n",
       " '5 ratings']"
      ]
     },
     "execution_count": 107,
     "metadata": {},
     "output_type": "execute_result"
    }
   ],
   "source": [
    "reviews"
   ]
  },
  {
   "cell_type": "code",
   "execution_count": 118,
   "metadata": {},
   "outputs": [],
   "source": [
    "reviews_df=pd.DataFrame(reviews).T"
   ]
  },
  {
   "cell_type": "code",
   "execution_count": 125,
   "metadata": {},
   "outputs": [],
   "source": [
    "col={0:'Title',1:'Review_Date',2:'Consumer',3:'Review_Title',4:'Review',5:'Rating',6:'Rating_count'}"
   ]
  },
  {
   "cell_type": "code",
   "execution_count": 133,
   "metadata": {},
   "outputs": [],
   "source": [
    "reviews_df.rename(columns=col,inplace=True)"
   ]
  },
  {
   "cell_type": "code",
   "execution_count": 134,
   "metadata": {},
   "outputs": [],
   "source": [
    "reviews_df.to_csv('amazon_review.csv',index=False)"
   ]
  },
  {
   "cell_type": "markdown",
   "metadata": {},
   "source": [
    "## Good Reads Reviews"
   ]
  },
  {
   "cell_type": "code",
   "execution_count": 138,
   "metadata": {},
   "outputs": [],
   "source": [
    "URL = \"https://www.goodreads.com/book/show/25527772-python-data-science-essentials---learn-the-fundamentals-of-data-science\"\n",
    "webpage = requests.get(URL, headers=HEADERS)"
   ]
  },
  {
   "cell_type": "code",
   "execution_count": 139,
   "metadata": {},
   "outputs": [],
   "source": [
    "soup = BeautifulSoup(webpage.content, \"lxml\")"
   ]
  },
  {
   "cell_type": "code",
   "execution_count": 141,
   "metadata": {},
   "outputs": [],
   "source": [
    "#print(soup)"
   ]
  },
  {
   "cell_type": "code",
   "execution_count": 145,
   "metadata": {},
   "outputs": [
    {
     "name": "stdout",
     "output_type": "stream",
     "text": [
      "Python Data Science Essentials - Learn the fundamentals of Data Science with Python\n"
     ]
    }
   ],
   "source": [
    "titles = soup.find('h1', id='bookTitle').text.strip()\n",
    "print(titles)"
   ]
  },
  {
   "cell_type": "code",
   "execution_count": 147,
   "metadata": {},
   "outputs": [
    {
     "data": {
      "text/plain": [
       "'Alberto Boschetti'"
      ]
     },
     "execution_count": 147,
     "metadata": {},
     "output_type": "execute_result"
    }
   ],
   "source": [
    "authors = soup.find('span', itemprop='name')\n",
    "authors.string"
   ]
  },
  {
   "cell_type": "code",
   "execution_count": 224,
   "metadata": {},
   "outputs": [],
   "source": [
    "book_reviews = []"
   ]
  },
  {
   "cell_type": "code",
   "execution_count": 225,
   "metadata": {},
   "outputs": [],
   "source": [
    "reviews=soup.find_all('span',style=\"display:none\")"
   ]
  },
  {
   "cell_type": "code",
   "execution_count": 226,
   "metadata": {},
   "outputs": [],
   "source": [
    "for i in range(1,len(reviews)):\n",
    "    book_reviews.append(reviews[i].text)"
   ]
  },
  {
   "cell_type": "code",
   "execution_count": 227,
   "metadata": {},
   "outputs": [
    {
     "data": {
      "text/plain": [
       "['It\\'s hard to explain this book, mostly because it\\'s hard to get to whom it is targeted.Is it targeted to people that already know Machine Learning and want to learn Python? No, the book goes into lengths into some algorithms and has \"easy to write, but not quite right\" code to do so.Is it targeted to people that know Python but want to learn Machine Learning? No; even if some algorithms are explained in length, some aren\\'t and there is very little \"you use this when you have data like that\" explanations. Actually, there is very little explanation on where an algorithm should be used.Is it targeted to people that don\\'t know Python and don\\'t know Machine Learning and want to learn but? This is the gray area of the book: Again, the code is pretty simple and does not follow Python coding standards and the ML part is really shallow on the \"when\" and \"why\" sections.In the end, the book is simply an extended version of Scikit-Learn manual -- and I even have doubts if the manual isn\\'t better because it explains when an algorithm should be used.',\n",
       " \"If someone contextualizes their practical challenges as guidelines, it is a great upper hand for the learners. Alberto Boschetti and Luca Massaron give advice with clearly set out boundaries to contextualisation to ensure readers can readily determine what is acceptable to the industry. This advice develops around scenarios, examples and codes of data science projects.The authors are data scientists with expertise in statistics, linking with other sophisticated technical subject fields. This book has simplified the complexities that are relevant to beginners and intermediate data scientists with their understanding may have faced in using Python. In this book, users are recommended Python 3.4 or above for all its examples to practice.The book engages and absorbs the reader into the subject matter involving almost all the human senses. The beauty of the book is that it has six chapters linked with resources (data and source codes). These resources are of immense value and will surely intrigue both beginners, and intermediate users. At the beginning of each chapter readers are able to clearly visualise what will be learnt during the chapter. The book gives more extensive knowledge about practical data mining principals through scientific methodology and effectively tests the performance of the user's machine learning hypothesis.If the reader studies the book and completes the lab practice, it is a great chance to enhance user data manipulation and machine learning skills.In this second edition, it is evident the authors have invested both time and effort, and have listened to user feedback to improve this particular edition. This edition displays more maturity and delivers more focus on updated and expanded content. Chapter four on Machine Learning in this second edition is an excellent move I think, as it’s one of the most widely used data science techniques with python.Visualize the machine learning and optimisation processes the authors discuss in chapter 3, ‘The Data Pipeline’, and chapter 4, ‘Machine Learning’. If readers choose to get colour images of this book, there is the facility, and I am sure it is a bonus for the readers.I recommend this book to all data science labs if they are dedicated to investing real industry experiences to successfully obtain their future research project deliverables.This 354 page book is an excellent guide on learning data science through python for those aspiring to become experienced in it. It is also one of the few books that one will find truly practical and engaging.Review by Prof. Kalum Priyanath UdagepolaOriginally posted: http://www.bcs.org/content/conWebDoc/...\"]"
      ]
     },
     "execution_count": 227,
     "metadata": {},
     "output_type": "execute_result"
    }
   ],
   "source": [
    "book_reviews"
   ]
  },
  {
   "cell_type": "code",
   "execution_count": 236,
   "metadata": {},
   "outputs": [],
   "source": [
    "reviews_df=pd.DataFrame(book_reviews)"
   ]
  },
  {
   "cell_type": "code",
   "execution_count": 237,
   "metadata": {},
   "outputs": [],
   "source": [
    "reviews_df.rename(columns={0:'Good Read Reviews'},inplace=True)"
   ]
  },
  {
   "cell_type": "code",
   "execution_count": 238,
   "metadata": {},
   "outputs": [
    {
     "data": {
      "text/html": [
       "<div>\n",
       "<style scoped>\n",
       "    .dataframe tbody tr th:only-of-type {\n",
       "        vertical-align: middle;\n",
       "    }\n",
       "\n",
       "    .dataframe tbody tr th {\n",
       "        vertical-align: top;\n",
       "    }\n",
       "\n",
       "    .dataframe thead th {\n",
       "        text-align: right;\n",
       "    }\n",
       "</style>\n",
       "<table border=\"1\" class=\"dataframe\">\n",
       "  <thead>\n",
       "    <tr style=\"text-align: right;\">\n",
       "      <th></th>\n",
       "      <th>Good Read Reviews</th>\n",
       "    </tr>\n",
       "  </thead>\n",
       "  <tbody>\n",
       "    <tr>\n",
       "      <th>0</th>\n",
       "      <td>It's hard to explain this book, mostly because...</td>\n",
       "    </tr>\n",
       "    <tr>\n",
       "      <th>1</th>\n",
       "      <td>If someone contextualizes their practical chal...</td>\n",
       "    </tr>\n",
       "  </tbody>\n",
       "</table>\n",
       "</div>"
      ],
      "text/plain": [
       "                                   Good Read Reviews\n",
       "0  It's hard to explain this book, mostly because...\n",
       "1  If someone contextualizes their practical chal..."
      ]
     },
     "execution_count": 238,
     "metadata": {},
     "output_type": "execute_result"
    }
   ],
   "source": [
    "reviews_df"
   ]
  },
  {
   "cell_type": "code",
   "execution_count": 239,
   "metadata": {},
   "outputs": [],
   "source": [
    "reviews_df.to_csv('goodread_reviews.csv',index=False)"
   ]
  },
  {
   "cell_type": "code",
   "execution_count": null,
   "metadata": {},
   "outputs": [],
   "source": []
  }
 ],
 "metadata": {
  "kernelspec": {
   "display_name": "Python 3",
   "language": "python",
   "name": "python3"
  },
  "language_info": {
   "codemirror_mode": {
    "name": "ipython",
    "version": 3
   },
   "file_extension": ".py",
   "mimetype": "text/x-python",
   "name": "python",
   "nbconvert_exporter": "python",
   "pygments_lexer": "ipython3",
   "version": "3.8.5"
  }
 },
 "nbformat": 4,
 "nbformat_minor": 4
}
