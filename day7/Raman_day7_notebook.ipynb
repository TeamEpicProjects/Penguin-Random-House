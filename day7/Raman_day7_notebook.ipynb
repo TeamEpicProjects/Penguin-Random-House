{
 "cells": [
  {
   "cell_type": "code",
   "execution_count": 3,
   "metadata": {},
   "outputs": [],
   "source": [
    "# Import required libraries\n",
    "import pandas as pd\n",
    "import matplotlib.pyplot as plt\n",
    "import re\n",
    "import numpy as np \n",
    "import matplotlib.pyplot as plt \n",
    "import seaborn as sns\n",
    "import string\n",
    "import nltk\n",
    "import warnings \n",
    "%matplotlib inline\n",
    "warnings.filterwarnings(\"ignore\", category=DeprecationWarning)\n",
    "from nltk.corpus import stopwords\n",
    "stop = stopwords.words('english')"
   ]
  },
  {
   "cell_type": "code",
   "execution_count": 4,
   "metadata": {},
   "outputs": [
    {
     "name": "stdout",
     "output_type": "stream",
     "text": [
      "(8433, 4)\n"
     ]
    },
    {
     "data": {
      "text/html": [
       "<div>\n",
       "<style scoped>\n",
       "    .dataframe tbody tr th:only-of-type {\n",
       "        vertical-align: middle;\n",
       "    }\n",
       "\n",
       "    .dataframe tbody tr th {\n",
       "        vertical-align: top;\n",
       "    }\n",
       "\n",
       "    .dataframe thead th {\n",
       "        text-align: right;\n",
       "    }\n",
       "</style>\n",
       "<table border=\"1\" class=\"dataframe\">\n",
       "  <thead>\n",
       "    <tr style=\"text-align: right;\">\n",
       "      <th></th>\n",
       "      <th>title</th>\n",
       "      <th>date</th>\n",
       "      <th>rating</th>\n",
       "      <th>body</th>\n",
       "    </tr>\n",
       "  </thead>\n",
       "  <tbody>\n",
       "    <tr>\n",
       "      <th>0</th>\n",
       "      <td>The Body: A Guide for Occupants</td>\n",
       "      <td>Oct 11, 2019</td>\n",
       "      <td>5.0</td>\n",
       "      <td>Lovingly presented with humour and kindness an...</td>\n",
       "    </tr>\n",
       "    <tr>\n",
       "      <th>1</th>\n",
       "      <td>Resistance Reborn</td>\n",
       "      <td>Feb 28, 2020</td>\n",
       "      <td>4.0</td>\n",
       "      <td>I read through this book quicker than anticip...</td>\n",
       "    </tr>\n",
       "    <tr>\n",
       "      <th>2</th>\n",
       "      <td>The Book of Two Ways</td>\n",
       "      <td>Jul 13, 2020</td>\n",
       "      <td>4.0</td>\n",
       "      <td>Jodi Picoult does it again in this new novel. ...</td>\n",
       "    </tr>\n",
       "    <tr>\n",
       "      <th>3</th>\n",
       "      <td>How to Write One Song: Loving the Things We Cr...</td>\n",
       "      <td>Feb 21, 2021</td>\n",
       "      <td>4.0</td>\n",
       "      <td>I’m a music freak without a shred of musical a...</td>\n",
       "    </tr>\n",
       "    <tr>\n",
       "      <th>4</th>\n",
       "      <td>The Giver of Stars</td>\n",
       "      <td>Sep 08, 2020</td>\n",
       "      <td>4.0</td>\n",
       "      <td>The Giver of Stars by Jojo Moyes won the Book ...</td>\n",
       "    </tr>\n",
       "  </tbody>\n",
       "</table>\n",
       "</div>"
      ],
      "text/plain": [
       "                                               title          date  rating  \\\n",
       "0                    The Body: A Guide for Occupants  Oct 11, 2019     5.0   \n",
       "1                                  Resistance Reborn  Feb 28, 2020     4.0   \n",
       "2                               The Book of Two Ways  Jul 13, 2020     4.0   \n",
       "3  How to Write One Song: Loving the Things We Cr...  Feb 21, 2021     4.0   \n",
       "4                                 The Giver of Stars  Sep 08, 2020     4.0   \n",
       "\n",
       "                                                body  \n",
       "0  Lovingly presented with humour and kindness an...  \n",
       "1   I read through this book quicker than anticip...  \n",
       "2  Jodi Picoult does it again in this new novel. ...  \n",
       "3  I’m a music freak without a shred of musical a...  \n",
       "4  The Giver of Stars by Jojo Moyes won the Book ...  "
      ]
     },
     "execution_count": 4,
     "metadata": {},
     "output_type": "execute_result"
    }
   ],
   "source": [
    "dat = pd.read_csv('goodreads.tsv' , sep='\\t') \n",
    "print(dat.shape)\n",
    "dat.head()\n"
   ]
  },
  {
   "cell_type": "code",
   "execution_count": 5,
   "metadata": {},
   "outputs": [
    {
     "data": {
      "text/html": [
       "<div>\n",
       "<style scoped>\n",
       "    .dataframe tbody tr th:only-of-type {\n",
       "        vertical-align: middle;\n",
       "    }\n",
       "\n",
       "    .dataframe tbody tr th {\n",
       "        vertical-align: top;\n",
       "    }\n",
       "\n",
       "    .dataframe thead th {\n",
       "        text-align: right;\n",
       "    }\n",
       "</style>\n",
       "<table border=\"1\" class=\"dataframe\">\n",
       "  <thead>\n",
       "    <tr style=\"text-align: right;\">\n",
       "      <th></th>\n",
       "      <th>title</th>\n",
       "      <th>date</th>\n",
       "      <th>rating</th>\n",
       "      <th>body</th>\n",
       "    </tr>\n",
       "  </thead>\n",
       "  <tbody>\n",
       "    <tr>\n",
       "      <th>0</th>\n",
       "      <td>The Body: A Guide for Occupants</td>\n",
       "      <td>Oct 11, 2019</td>\n",
       "      <td>5.0</td>\n",
       "      <td>Lovingly presented with humour and kindness an...</td>\n",
       "    </tr>\n",
       "    <tr>\n",
       "      <th>1</th>\n",
       "      <td>Resistance Reborn</td>\n",
       "      <td>Feb 28, 2020</td>\n",
       "      <td>4.0</td>\n",
       "      <td>I read through this book quicker than anticip...</td>\n",
       "    </tr>\n",
       "    <tr>\n",
       "      <th>2</th>\n",
       "      <td>The Book of Two Ways</td>\n",
       "      <td>Jul 13, 2020</td>\n",
       "      <td>4.0</td>\n",
       "      <td>Jodi Picoult does it again in this new novel. ...</td>\n",
       "    </tr>\n",
       "    <tr>\n",
       "      <th>3</th>\n",
       "      <td>How to Write One Song: Loving the Things We Cr...</td>\n",
       "      <td>Feb 21, 2021</td>\n",
       "      <td>4.0</td>\n",
       "      <td>I’m a music freak without a shred of musical a...</td>\n",
       "    </tr>\n",
       "    <tr>\n",
       "      <th>4</th>\n",
       "      <td>The Giver of Stars</td>\n",
       "      <td>Sep 08, 2020</td>\n",
       "      <td>4.0</td>\n",
       "      <td>The Giver of Stars by Jojo Moyes won the Book ...</td>\n",
       "    </tr>\n",
       "    <tr>\n",
       "      <th>...</th>\n",
       "      <td>...</td>\n",
       "      <td>...</td>\n",
       "      <td>...</td>\n",
       "      <td>...</td>\n",
       "    </tr>\n",
       "    <tr>\n",
       "      <th>8428</th>\n",
       "      <td>The Giver of Stars</td>\n",
       "      <td>Feb 12, 2020</td>\n",
       "      <td>5.0</td>\n",
       "      <td>I loved this book! Let me start by saying that...</td>\n",
       "    </tr>\n",
       "    <tr>\n",
       "      <th>8429</th>\n",
       "      <td>Minor Feelings: An Asian American Reckoning</td>\n",
       "      <td>May 21, 2020</td>\n",
       "      <td>4.0</td>\n",
       "      <td>What did i just read?I chose this title becaus...</td>\n",
       "    </tr>\n",
       "    <tr>\n",
       "      <th>8430</th>\n",
       "      <td>Trixie and Katya's Guide to Modern Womanhood</td>\n",
       "      <td>Oct 29, 2020</td>\n",
       "      <td>4.0</td>\n",
       "      <td>**3.45 stars ( if we were using a 10/10 scale ...</td>\n",
       "    </tr>\n",
       "    <tr>\n",
       "      <th>8431</th>\n",
       "      <td>To Wake the Giant: A Novel of Pearl Harbor</td>\n",
       "      <td>May 22, 2020</td>\n",
       "      <td>4.0</td>\n",
       "      <td>Thanks to Netgalley, Random House and Ballenti...</td>\n",
       "    </tr>\n",
       "    <tr>\n",
       "      <th>8432</th>\n",
       "      <td>Finding Ashley</td>\n",
       "      <td>Apr 14, 2021</td>\n",
       "      <td>4.0</td>\n",
       "      <td>Finding Ashley starts with Melissa working har...</td>\n",
       "    </tr>\n",
       "  </tbody>\n",
       "</table>\n",
       "<p>8139 rows × 4 columns</p>\n",
       "</div>"
      ],
      "text/plain": [
       "                                                  title          date  rating  \\\n",
       "0                       The Body: A Guide for Occupants  Oct 11, 2019     5.0   \n",
       "1                                     Resistance Reborn  Feb 28, 2020     4.0   \n",
       "2                                  The Book of Two Ways  Jul 13, 2020     4.0   \n",
       "3     How to Write One Song: Loving the Things We Cr...  Feb 21, 2021     4.0   \n",
       "4                                    The Giver of Stars  Sep 08, 2020     4.0   \n",
       "...                                                 ...           ...     ...   \n",
       "8428                                 The Giver of Stars  Feb 12, 2020     5.0   \n",
       "8429        Minor Feelings: An Asian American Reckoning  May 21, 2020     4.0   \n",
       "8430       Trixie and Katya's Guide to Modern Womanhood  Oct 29, 2020     4.0   \n",
       "8431         To Wake the Giant: A Novel of Pearl Harbor  May 22, 2020     4.0   \n",
       "8432                                     Finding Ashley  Apr 14, 2021     4.0   \n",
       "\n",
       "                                                   body  \n",
       "0     Lovingly presented with humour and kindness an...  \n",
       "1      I read through this book quicker than anticip...  \n",
       "2     Jodi Picoult does it again in this new novel. ...  \n",
       "3     I’m a music freak without a shred of musical a...  \n",
       "4     The Giver of Stars by Jojo Moyes won the Book ...  \n",
       "...                                                 ...  \n",
       "8428  I loved this book! Let me start by saying that...  \n",
       "8429  What did i just read?I chose this title becaus...  \n",
       "8430  **3.45 stars ( if we were using a 10/10 scale ...  \n",
       "8431  Thanks to Netgalley, Random House and Ballenti...  \n",
       "8432  Finding Ashley starts with Melissa working har...  \n",
       "\n",
       "[8139 rows x 4 columns]"
      ]
     },
     "execution_count": 5,
     "metadata": {},
     "output_type": "execute_result"
    }
   ],
   "source": [
    "#Dropping Null Values\n",
    "df=dat.dropna()\n",
    "df"
   ]
  },
  {
   "cell_type": "code",
   "execution_count": 6,
   "metadata": {},
   "outputs": [
    {
     "name": "stderr",
     "output_type": "stream",
     "text": [
      "C:\\Users\\parde\\anaconda3\\lib\\site-packages\\ipykernel_launcher.py:5: SettingWithCopyWarning: \n",
      "A value is trying to be set on a copy of a slice from a DataFrame.\n",
      "Try using .loc[row_indexer,col_indexer] = value instead\n",
      "\n",
      "See the caveats in the documentation: https://pandas.pydata.org/pandas-docs/stable/user_guide/indexing.html#returning-a-view-versus-a-copy\n",
      "  \"\"\"\n"
     ]
    },
    {
     "data": {
      "text/html": [
       "<div>\n",
       "<style scoped>\n",
       "    .dataframe tbody tr th:only-of-type {\n",
       "        vertical-align: middle;\n",
       "    }\n",
       "\n",
       "    .dataframe tbody tr th {\n",
       "        vertical-align: top;\n",
       "    }\n",
       "\n",
       "    .dataframe thead th {\n",
       "        text-align: right;\n",
       "    }\n",
       "</style>\n",
       "<table border=\"1\" class=\"dataframe\">\n",
       "  <thead>\n",
       "    <tr style=\"text-align: right;\">\n",
       "      <th></th>\n",
       "      <th>title</th>\n",
       "      <th>date</th>\n",
       "      <th>rating</th>\n",
       "      <th>body</th>\n",
       "      <th>sent</th>\n",
       "    </tr>\n",
       "  </thead>\n",
       "  <tbody>\n",
       "    <tr>\n",
       "      <th>0</th>\n",
       "      <td>The Body: A Guide for Occupants</td>\n",
       "      <td>Oct 11, 2019</td>\n",
       "      <td>5.0</td>\n",
       "      <td>Lovingly presented with humour and kindness an...</td>\n",
       "      <td>1</td>\n",
       "    </tr>\n",
       "    <tr>\n",
       "      <th>1</th>\n",
       "      <td>Resistance Reborn</td>\n",
       "      <td>Feb 28, 2020</td>\n",
       "      <td>4.0</td>\n",
       "      <td>I read through this book quicker than anticip...</td>\n",
       "      <td>1</td>\n",
       "    </tr>\n",
       "    <tr>\n",
       "      <th>2</th>\n",
       "      <td>The Book of Two Ways</td>\n",
       "      <td>Jul 13, 2020</td>\n",
       "      <td>4.0</td>\n",
       "      <td>Jodi Picoult does it again in this new novel. ...</td>\n",
       "      <td>1</td>\n",
       "    </tr>\n",
       "    <tr>\n",
       "      <th>3</th>\n",
       "      <td>How to Write One Song: Loving the Things We Cr...</td>\n",
       "      <td>Feb 21, 2021</td>\n",
       "      <td>4.0</td>\n",
       "      <td>I’m a music freak without a shred of musical a...</td>\n",
       "      <td>1</td>\n",
       "    </tr>\n",
       "    <tr>\n",
       "      <th>4</th>\n",
       "      <td>The Giver of Stars</td>\n",
       "      <td>Sep 08, 2020</td>\n",
       "      <td>4.0</td>\n",
       "      <td>The Giver of Stars by Jojo Moyes won the Book ...</td>\n",
       "      <td>1</td>\n",
       "    </tr>\n",
       "  </tbody>\n",
       "</table>\n",
       "</div>"
      ],
      "text/plain": [
       "                                               title          date  rating  \\\n",
       "0                    The Body: A Guide for Occupants  Oct 11, 2019     5.0   \n",
       "1                                  Resistance Reborn  Feb 28, 2020     4.0   \n",
       "2                               The Book of Two Ways  Jul 13, 2020     4.0   \n",
       "3  How to Write One Song: Loving the Things We Cr...  Feb 21, 2021     4.0   \n",
       "4                                 The Giver of Stars  Sep 08, 2020     4.0   \n",
       "\n",
       "                                                body  sent  \n",
       "0  Lovingly presented with humour and kindness an...     1  \n",
       "1   I read through this book quicker than anticip...     1  \n",
       "2  Jodi Picoult does it again in this new novel. ...     1  \n",
       "3  I’m a music freak without a shred of musical a...     1  \n",
       "4  The Giver of Stars by Jojo Moyes won the Book ...     1  "
      ]
     },
     "execution_count": 6,
     "metadata": {},
     "output_type": "execute_result"
    }
   ],
   "source": [
    "#function to represent sentiment -1(negetive);0(neutral);1(positive)\n",
    "def sentiment(n):\n",
    "    return 1 if n>=4 else (-1 if n<=2 else 0)\n",
    "#Applying Sentiment Function \n",
    "df['sent'] = df['rating'].apply(sentiment)\n",
    "df.head()"
   ]
  },
  {
   "cell_type": "code",
   "execution_count": 7,
   "metadata": {},
   "outputs": [
    {
     "data": {
      "text/html": [
       "<div>\n",
       "<style scoped>\n",
       "    .dataframe tbody tr th:only-of-type {\n",
       "        vertical-align: middle;\n",
       "    }\n",
       "\n",
       "    .dataframe tbody tr th {\n",
       "        vertical-align: top;\n",
       "    }\n",
       "\n",
       "    .dataframe thead th {\n",
       "        text-align: right;\n",
       "    }\n",
       "</style>\n",
       "<table border=\"1\" class=\"dataframe\">\n",
       "  <thead>\n",
       "    <tr style=\"text-align: right;\">\n",
       "      <th></th>\n",
       "      <th>title</th>\n",
       "      <th>date</th>\n",
       "      <th>rating</th>\n",
       "      <th>body</th>\n",
       "    </tr>\n",
       "    <tr>\n",
       "      <th>sent</th>\n",
       "      <th></th>\n",
       "      <th></th>\n",
       "      <th></th>\n",
       "      <th></th>\n",
       "    </tr>\n",
       "  </thead>\n",
       "  <tbody>\n",
       "    <tr>\n",
       "      <th>-1</th>\n",
       "      <td>931</td>\n",
       "      <td>931</td>\n",
       "      <td>931</td>\n",
       "      <td>931</td>\n",
       "    </tr>\n",
       "    <tr>\n",
       "      <th>0</th>\n",
       "      <td>1430</td>\n",
       "      <td>1430</td>\n",
       "      <td>1430</td>\n",
       "      <td>1430</td>\n",
       "    </tr>\n",
       "    <tr>\n",
       "      <th>1</th>\n",
       "      <td>5778</td>\n",
       "      <td>5778</td>\n",
       "      <td>5778</td>\n",
       "      <td>5778</td>\n",
       "    </tr>\n",
       "  </tbody>\n",
       "</table>\n",
       "</div>"
      ],
      "text/plain": [
       "      title  date  rating  body\n",
       "sent                           \n",
       "-1      931   931     931   931\n",
       " 0     1430  1430    1430  1430\n",
       " 1     5778  5778    5778  5778"
      ]
     },
     "execution_count": 7,
     "metadata": {},
     "output_type": "execute_result"
    }
   ],
   "source": [
    "Sentiment_count=df.groupby('sent').count()\n",
    "Sentiment_count"
   ]
  },
  {
   "cell_type": "code",
   "execution_count": 8,
   "metadata": {},
   "outputs": [
    {
     "data": {
      "text/plain": [
       "(8139, 5)"
      ]
     },
     "execution_count": 8,
     "metadata": {},
     "output_type": "execute_result"
    }
   ],
   "source": [
    "for i in range(0,len(df)-1):\n",
    "    if type(df.iloc[i]['body']) != str:\n",
    "        df.iloc[i]['body'] = str(df.iloc[i]['body'])\n",
    "\n",
    "df.shape"
   ]
  },
  {
   "cell_type": "code",
   "execution_count": 9,
   "metadata": {},
   "outputs": [],
   "source": [
    "x=df['body']\n",
    "y=df['sent']"
   ]
  },
  {
   "cell_type": "code",
   "execution_count": 10,
   "metadata": {},
   "outputs": [],
   "source": [
    "from sklearn.model_selection import train_test_split\n",
    "X_train, X_test, y_train, y_test = train_test_split(x, y,test_size=0.2, random_state=0)"
   ]
  },
  {
   "cell_type": "code",
   "execution_count": 11,
   "metadata": {},
   "outputs": [],
   "source": [
    "import re\n",
    "\n",
    "\n",
    "def clean_text(text):\n",
    "        \n",
    "    # remove HTML tags\n",
    "    text = re.sub(r'<.*?>', '', text)\n",
    "    \n",
    "    # remove the characters [\\], ['] and [\"]\n",
    "    text = re.sub(r\"\\\\\", \"\", text)    \n",
    "    text = re.sub(r\"\\'\", \"\", text)    \n",
    "    text = re.sub(r\"\\\"\", \"\", text)    \n",
    "    \n",
    "    # convert text to lowercase\n",
    "    text = text.strip().lower()\n",
    "    \n",
    "    # replace punctuation characters with spaces\n",
    "    filters='!\"\\'#$%&()*+,-./:;<=>?@[\\\\]^_`{|}~\\t\\n'\n",
    "    translate_dict = dict((c, \" \") for c in filters)\n",
    "    translate_map = str.maketrans(translate_dict)\n",
    "    text = text.translate(translate_map)\n",
    "\n",
    "    return text"
   ]
  },
  {
   "cell_type": "code",
   "execution_count": 12,
   "metadata": {},
   "outputs": [
    {
     "data": {
      "text/plain": [
       "<6511x28837 sparse matrix of type '<class 'numpy.int64'>'\n",
       "\twith 398863 stored elements in Compressed Sparse Row format>"
      ]
     },
     "execution_count": 12,
     "metadata": {},
     "output_type": "execute_result"
    }
   ],
   "source": [
    "from sklearn.feature_extraction.text import CountVectorizer\n",
    "vectorizer = CountVectorizer(stop_words=\"english\",preprocessor=clean_text)\n",
    "X_train_CV = vectorizer.fit_transform(X_train)\n",
    "X_test_CV = vectorizer.transform(X_test)\n",
    "X_train_CV"
   ]
  },
  {
   "cell_type": "code",
   "execution_count": 13,
   "metadata": {},
   "outputs": [
    {
     "data": {
      "text/plain": [
       "<6511x28837 sparse matrix of type '<class 'numpy.float64'>'\n",
       "\twith 398863 stored elements in Compressed Sparse Row format>"
      ]
     },
     "execution_count": 13,
     "metadata": {},
     "output_type": "execute_result"
    }
   ],
   "source": [
    "from sklearn.feature_extraction.text import TfidfTransformer\n",
    "tfidf_transformer = TfidfTransformer()\n",
    "X_train_tfidf = tfidf_transformer.fit_transform(X_train_CV)\n",
    "X_train_tfidf.shape\n",
    "X_train_tfidf\n"
   ]
  },
  {
   "cell_type": "code",
   "execution_count": 14,
   "metadata": {},
   "outputs": [
    {
     "data": {
      "text/plain": [
       "<1628x28837 sparse matrix of type '<class 'numpy.float64'>'\n",
       "\twith 91754 stored elements in Compressed Sparse Row format>"
      ]
     },
     "execution_count": 14,
     "metadata": {},
     "output_type": "execute_result"
    }
   ],
   "source": [
    "X_test_tfidf = tfidf_transformer.transform(X_test_CV)\n",
    "X_test_tfidf"
   ]
  },
  {
   "cell_type": "code",
   "execution_count": 15,
   "metadata": {
    "scrolled": true
   },
   "outputs": [
    {
     "data": {
      "text/plain": [
       "array([ 1,  1,  1, ..., -1,  1,  1], dtype=int64)"
      ]
     },
     "execution_count": 15,
     "metadata": {},
     "output_type": "execute_result"
    }
   ],
   "source": [
    "from sklearn.linear_model import SGDClassifier\n",
    "from sklearn.pipeline import Pipeline\n",
    "clf = SGDClassifier(loss=\"log\", penalty=\"l2\") #logistic Regression\n",
    "clf.fit(X_train_CV, y_train)\n",
    "clf\n",
    "y_predic  =  clf.predict(X_test_CV)\n",
    "y_predic"
   ]
  },
  {
   "cell_type": "code",
   "execution_count": 16,
   "metadata": {},
   "outputs": [
    {
     "data": {
      "text/plain": [
       "'              precision    recall  f1-score   support\\n\\n          -1       0.48      0.37      0.42       197\\n           0       0.37      0.25      0.30       277\\n           1       0.81      0.90      0.85      1154\\n\\n    accuracy                           0.73      1628\\n   macro avg       0.55      0.51      0.52      1628\\nweighted avg       0.69      0.73      0.70      1628\\n'"
      ]
     },
     "execution_count": 16,
     "metadata": {},
     "output_type": "execute_result"
    }
   ],
   "source": [
    "from sklearn.metrics import confusion_matrix,accuracy_score,classification_report\n",
    "clas = classification_report(y_test, y_predic)\n",
    "clas"
   ]
  },
  {
   "cell_type": "code",
   "execution_count": 17,
   "metadata": {},
   "outputs": [
    {
     "data": {
      "text/plain": [
       "array([[  73,   41,   83],\n",
       "       [  40,   69,  168],\n",
       "       [  38,   76, 1040]], dtype=int64)"
      ]
     },
     "execution_count": 17,
     "metadata": {},
     "output_type": "execute_result"
    }
   ],
   "source": [
    "con = confusion_matrix(y_test, y_predic)\n",
    "con"
   ]
  },
  {
   "cell_type": "code",
   "execution_count": 18,
   "metadata": {},
   "outputs": [
    {
     "name": "stdout",
     "output_type": "stream",
     "text": [
      "72.60442260442261\n"
     ]
    }
   ],
   "source": [
    "acc = accuracy_score(y_test,y_predic)\n",
    "acc\n",
    "print(acc*100)"
   ]
  },
  {
   "cell_type": "code",
   "execution_count": 19,
   "metadata": {},
   "outputs": [
    {
     "data": {
      "text/plain": [
       "SGDClassifier(alpha=0.0001, average=False, class_weight=None,\n",
       "              early_stopping=False, epsilon=0.1, eta0=0.0, fit_intercept=True,\n",
       "              l1_ratio=0.15, learning_rate='optimal', loss='hinge',\n",
       "              max_iter=1000, n_iter_no_change=5, n_jobs=None, penalty='l2',\n",
       "              power_t=0.5, random_state=None, shuffle=True, tol=0.001,\n",
       "              validation_fraction=0.1, verbose=0, warm_start=False)"
      ]
     },
     "execution_count": 19,
     "metadata": {},
     "output_type": "execute_result"
    }
   ],
   "source": [
    "clf = SGDClassifier(loss=\"hinge\", penalty=\"l2\") #svm\n",
    "clf.fit(X_train_tfidf, y_train)\n",
    "clf"
   ]
  },
  {
   "cell_type": "code",
   "execution_count": 20,
   "metadata": {},
   "outputs": [
    {
     "name": "stdout",
     "output_type": "stream",
     "text": [
      "72.60442260442261\n"
     ]
    }
   ],
   "source": [
    "y_pred  =  clf.predict(X_test_tfidf)\n",
    "y_pred\n",
    "ac = accuracy_score(y_test,y_pred)\n",
    "ac\n",
    "print(acc*100)"
   ]
  },
  {
   "cell_type": "code",
   "execution_count": 21,
   "metadata": {},
   "outputs": [
    {
     "name": "stderr",
     "output_type": "stream",
     "text": [
      "C:\\Users\\parde\\anaconda3\\lib\\site-packages\\sklearn\\linear_model\\_stochastic_gradient.py:557: ConvergenceWarning: Maximum number of iteration reached before convergence. Consider increasing max_iter to improve the fit.\n",
      "  ConvergenceWarning)\n"
     ]
    },
    {
     "name": "stdout",
     "output_type": "stream",
     "text": [
      "{'alpha': 0.0001, 'loss': 'hinge', 'penalty': 'l1'}\n"
     ]
    }
   ],
   "source": [
    "from sklearn.model_selection import GridSearchCV\n",
    "params = {\n",
    "    \"loss\" : [\"hinge\", \"log\", \"squared_hinge\", \"modified_huber\", \"perceptron\"],\n",
    "    \"alpha\" : [0.0001, 0.001, 0.01, 0.1],\n",
    "    \"penalty\" : [\"l2\", \"l1\", \"elasticnet\", \"none\"],\n",
    "}\n",
    "\n",
    "clf = SGDClassifier(max_iter=100)\n",
    "grid = GridSearchCV(clf, param_grid=params, cv=10)\n",
    "\n",
    "\n",
    "grid.fit(X_train_tfidf, y_train)\n",
    "\n",
    "print(grid.best_params_)"
   ]
  },
  {
   "cell_type": "code",
   "execution_count": 36,
   "metadata": {},
   "outputs": [
    {
     "data": {
      "text/plain": [
       "array([ 1,  1,  1, ..., -1,  1,  1], dtype=int64)"
      ]
     },
     "execution_count": 36,
     "metadata": {},
     "output_type": "execute_result"
    }
   ],
   "source": [
    "grid_predictions = grid.predict(X_test_tfidf) \n",
    "\n",
    "grid_predictions"
   ]
  },
  {
   "cell_type": "code",
   "execution_count": 38,
   "metadata": {},
   "outputs": [
    {
     "name": "stdout",
     "output_type": "stream",
     "text": [
      "Accuracy: 74.75\n"
     ]
    }
   ],
   "source": [
    "print('Accuracy: {:.2f}'.format(accuracy_score(y_test, grid_predictions)*100))"
   ]
  },
  {
   "cell_type": "code",
   "execution_count": 39,
   "metadata": {},
   "outputs": [
    {
     "name": "stdout",
     "output_type": "stream",
     "text": [
      "Accuracy: 83.34\n"
     ]
    }
   ],
   "source": [
    "grid_train_predictions = grid.predict(X_train_tfidf) \n",
    "\n",
    "print('Accuracy: {:.2f}'.format(accuracy_score(y_train, grid_train_predictions)*100))"
   ]
  },
  {
   "cell_type": "code",
   "execution_count": null,
   "metadata": {},
   "outputs": [],
   "source": []
  }
 ],
 "metadata": {
  "kernelspec": {
   "display_name": "Python 3",
   "language": "python",
   "name": "python3"
  },
  "language_info": {
   "codemirror_mode": {
    "name": "ipython",
    "version": 3
   },
   "file_extension": ".py",
   "mimetype": "text/x-python",
   "name": "python",
   "nbconvert_exporter": "python",
   "pygments_lexer": "ipython3",
   "version": "3.7.6"
  }
 },
 "nbformat": 4,
 "nbformat_minor": 4
}
