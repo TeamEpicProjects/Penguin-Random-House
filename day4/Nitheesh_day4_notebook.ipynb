{
 "cells": [
  {
   "cell_type": "markdown",
   "metadata": {},
   "source": [
    "# Good Review Srcapper"
   ]
  },
  {
   "cell_type": "code",
   "execution_count": 1,
   "metadata": {},
   "outputs": [],
   "source": [
    "from bs4 import BeautifulSoup\n",
    "import requests\n",
    "import pandas as pd\n",
    "from datetime import datetime"
   ]
  },
  {
   "cell_type": "code",
   "execution_count": 2,
   "metadata": {},
   "outputs": [],
   "source": [
    "links = pd.read_excel('dataset.xlsx')"
   ]
  },
  {
   "cell_type": "code",
   "execution_count": 57,
   "metadata": {},
   "outputs": [],
   "source": [
    "amazon_links = links['Amazon link']"
   ]
  },
  {
   "cell_type": "code",
   "execution_count": 58,
   "metadata": {},
   "outputs": [],
   "source": [
    "titles=[]"
   ]
  },
  {
   "cell_type": "code",
   "execution_count": 59,
   "metadata": {},
   "outputs": [],
   "source": [
    "for i in range (len(amazon_links)):\n",
    "    url=amazon_links[i]\n",
    "    title=url.split(\"/dp/\")[0].split('.com/')[1]\n",
    "    titles.append(title)"
   ]
  },
  {
   "cell_type": "code",
   "execution_count": 3,
   "metadata": {},
   "outputs": [],
   "source": [
    "goodread_links = links['Goodreads link']"
   ]
  },
  {
   "cell_type": "code",
   "execution_count": 4,
   "metadata": {},
   "outputs": [
    {
     "data": {
      "text/plain": [
       "0    https://www.goodreads.com/book/show/54976983-f...\n",
       "1    https://www.goodreads.com/book/show/53370054-f...\n",
       "2    https://www.goodreads.com/book/show/45213808-t...\n",
       "3    https://www.goodreads.com/book/show/53258232-t...\n",
       "4    https://www.goodreads.com/book/show/45452530-r...\n",
       "Name: Goodreads link, dtype: object"
      ]
     },
     "execution_count": 4,
     "metadata": {},
     "output_type": "execute_result"
    }
   ],
   "source": [
    "goodread_links.head()"
   ]
  },
  {
   "cell_type": "code",
   "execution_count": 61,
   "metadata": {},
   "outputs": [],
   "source": [
    "def reviews(base_url):\n",
    "    \n",
    "    book_reviews = []\n",
    "    ratings=[]\n",
    "    dates=[]\n",
    "    \n",
    "    HEADERS = ({'User-Agent':\n",
    "            'Mozilla/5.0 (X11; Linux x86_64) AppleWebKit/537.36 (KHTML, like Gecko) Chrome/44.0.2403.157 Safari/537.36',\n",
    "            'Accept-Language': 'en-US, en;q=0.5'})\n",
    "    \n",
    "    URL = base_url\n",
    "    webpage = requests.get(URL, headers=HEADERS)\n",
    "    soup = BeautifulSoup(webpage.content, \"lxml\")\n",
    "    reviews=soup.find_all('span',style=\"display:none\")\n",
    "    book_ratings = soup.find_all('span',attrs={'class':'staticStars notranslate'})\n",
    "    date = soup.find_all('a',attrs={'class':'reviewDate createdAt right'})\n",
    "    \n",
    "    for i in range(1,len(reviews)):\n",
    "        book_reviews.append(reviews[i].text)\n",
    "    \n",
    "    for i in range(1,len(book_ratings)):\n",
    "        ratings.append(book_ratings[i].text)\n",
    "        \n",
    "    for i in range (len(ratings)):\n",
    "        if ratings[i]=='it was amazing':\n",
    "            ratings[i]=5\n",
    "        elif ratings[i]=='really liked it':\n",
    "            ratings[i]=4\n",
    "        elif ratings[i]=='liked it':\n",
    "            ratings[i]=3\n",
    "        elif ratings[i]=='it was ok':\n",
    "            ratings[i]=2\n",
    "        elif ratings[i]=='did not like it':\n",
    "            ratings[i]=1\n",
    "        else:\n",
    "            ratings[i]=' '\n",
    "   \n",
    "        \n",
    "    for i in range(1,len(date)):\n",
    "        dates.append(date[i].text)\n",
    "    \n",
    "    for j in range(len(dates)):\n",
    "        dates[j]=datetime.strptime(dates[j],'%b %d, %Y').strftime('%Y-%m-%d')\n",
    "    \n",
    "        \n",
    "    df=pd.DataFrame(list(zip(book_reviews,ratings,dates)),columns =['Review', 'Rating','Date'])\n",
    "    return df"
   ]
  },
  {
   "cell_type": "code",
   "execution_count": 62,
   "metadata": {},
   "outputs": [],
   "source": [
    "goodread_reviews={}"
   ]
  },
  {
   "cell_type": "code",
   "execution_count": 64,
   "metadata": {},
   "outputs": [],
   "source": [
    "length=len(goodread_links)"
   ]
  },
  {
   "cell_type": "code",
   "execution_count": 65,
   "metadata": {},
   "outputs": [],
   "source": [
    "for i in range (length):\n",
    "    df = reviews(goodread_links[i])\n",
    "    d={titles[i]:df}\n",
    "    goodread_reviews.update(d)"
   ]
  },
  {
   "cell_type": "code",
   "execution_count": 66,
   "metadata": {},
   "outputs": [],
   "source": [
    "reviews=pd.concat(goodread_reviews)"
   ]
  },
  {
   "cell_type": "code",
   "execution_count": 67,
   "metadata": {},
   "outputs": [],
   "source": [
    "reviews['source']='GoodRead'"
   ]
  },
  {
   "cell_type": "code",
   "execution_count": 69,
   "metadata": {},
   "outputs": [
    {
     "data": {
      "text/html": [
       "<div>\n",
       "<style scoped>\n",
       "    .dataframe tbody tr th:only-of-type {\n",
       "        vertical-align: middle;\n",
       "    }\n",
       "\n",
       "    .dataframe tbody tr th {\n",
       "        vertical-align: top;\n",
       "    }\n",
       "\n",
       "    .dataframe thead th {\n",
       "        text-align: right;\n",
       "    }\n",
       "</style>\n",
       "<table border=\"1\" class=\"dataframe\">\n",
       "  <thead>\n",
       "    <tr style=\"text-align: right;\">\n",
       "      <th></th>\n",
       "      <th></th>\n",
       "      <th>Review</th>\n",
       "      <th>Rating</th>\n",
       "      <th>Date</th>\n",
       "      <th>source</th>\n",
       "    </tr>\n",
       "  </thead>\n",
       "  <tbody>\n",
       "    <tr>\n",
       "      <th rowspan=\"5\" valign=\"top\">Finding-Mother-Tree-Discovering-Wisdom</th>\n",
       "      <th>0</th>\n",
       "      <td>In Finding the Mother Tree a world-leading exp...</td>\n",
       "      <td>5</td>\n",
       "      <td>2021-03-04</td>\n",
       "      <td>GoodRead</td>\n",
       "    </tr>\n",
       "    <tr>\n",
       "      <th>1</th>\n",
       "      <td>So full disclosure - I discovered Suzanne Sima...</td>\n",
       "      <td>4</td>\n",
       "      <td>2021-05-09</td>\n",
       "      <td>GoodRead</td>\n",
       "    </tr>\n",
       "    <tr>\n",
       "      <th>2</th>\n",
       "      <td>In brief - In the strange world we live in thi...</td>\n",
       "      <td>4</td>\n",
       "      <td>2021-03-07</td>\n",
       "      <td>GoodRead</td>\n",
       "    </tr>\n",
       "    <tr>\n",
       "      <th>3</th>\n",
       "      <td>\\ni can't tell if my blood is in the trees or ...</td>\n",
       "      <td>3</td>\n",
       "      <td>2021-05-14</td>\n",
       "      <td>GoodRead</td>\n",
       "    </tr>\n",
       "    <tr>\n",
       "      <th>4</th>\n",
       "      <td>As an avid gardener most of my life I'm very f...</td>\n",
       "      <td>4</td>\n",
       "      <td>2021-03-26</td>\n",
       "      <td>GoodRead</td>\n",
       "    </tr>\n",
       "  </tbody>\n",
       "</table>\n",
       "</div>"
      ],
      "text/plain": [
       "                                                                                     Review  \\\n",
       "Finding-Mother-Tree-Discovering-Wisdom 0  In Finding the Mother Tree a world-leading exp...   \n",
       "                                       1  So full disclosure - I discovered Suzanne Sima...   \n",
       "                                       2  In brief - In the strange world we live in thi...   \n",
       "                                       3  \\ni can't tell if my blood is in the trees or ...   \n",
       "                                       4  As an avid gardener most of my life I'm very f...   \n",
       "\n",
       "                                         Rating        Date    source  \n",
       "Finding-Mother-Tree-Discovering-Wisdom 0      5  2021-03-04  GoodRead  \n",
       "                                       1      4  2021-05-09  GoodRead  \n",
       "                                       2      4  2021-03-07  GoodRead  \n",
       "                                       3      3  2021-05-14  GoodRead  \n",
       "                                       4      4  2021-03-26  GoodRead  "
      ]
     },
     "execution_count": 69,
     "metadata": {},
     "output_type": "execute_result"
    }
   ],
   "source": [
    "reviews.head()"
   ]
  },
  {
   "cell_type": "code",
   "execution_count": 68,
   "metadata": {},
   "outputs": [],
   "source": [
    "reviews.to_csv('goodread_review.csv',index=False)"
   ]
  },
  {
   "cell_type": "code",
   "execution_count": null,
   "metadata": {},
   "outputs": [],
   "source": []
  }
 ],
 "metadata": {
  "kernelspec": {
   "display_name": "Python 3",
   "language": "python",
   "name": "python3"
  },
  "language_info": {
   "codemirror_mode": {
    "name": "ipython",
    "version": 3
   },
   "file_extension": ".py",
   "mimetype": "text/x-python",
   "name": "python",
   "nbconvert_exporter": "python",
   "pygments_lexer": "ipython3",
   "version": "3.8.5"
  }
 },
 "nbformat": 4,
 "nbformat_minor": 4
}
