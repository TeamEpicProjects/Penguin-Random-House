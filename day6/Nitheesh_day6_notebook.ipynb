{
 "cells": [
  {
   "cell_type": "markdown",
   "metadata": {},
   "source": [
    "# Text Classifier on Good Read Reviews"
   ]
  },
  {
   "cell_type": "code",
   "execution_count": 1,
   "metadata": {},
   "outputs": [],
   "source": [
    "import pandas as pd\n",
    "import numpy as np"
   ]
  },
  {
   "cell_type": "code",
   "execution_count": 2,
   "metadata": {},
   "outputs": [],
   "source": [
    " good_reads = pd.read_csv('goodreads.tsv' , sep='\\t') #names=['user_id','song_id','play_count'])"
   ]
  },
  {
   "cell_type": "code",
   "execution_count": 3,
   "metadata": {},
   "outputs": [
    {
     "data": {
      "text/html": [
       "<div>\n",
       "<style scoped>\n",
       "    .dataframe tbody tr th:only-of-type {\n",
       "        vertical-align: middle;\n",
       "    }\n",
       "\n",
       "    .dataframe tbody tr th {\n",
       "        vertical-align: top;\n",
       "    }\n",
       "\n",
       "    .dataframe thead th {\n",
       "        text-align: right;\n",
       "    }\n",
       "</style>\n",
       "<table border=\"1\" class=\"dataframe\">\n",
       "  <thead>\n",
       "    <tr style=\"text-align: right;\">\n",
       "      <th></th>\n",
       "      <th>title</th>\n",
       "      <th>date</th>\n",
       "      <th>rating</th>\n",
       "      <th>body</th>\n",
       "    </tr>\n",
       "  </thead>\n",
       "  <tbody>\n",
       "    <tr>\n",
       "      <th>0</th>\n",
       "      <td>The Body: A Guide for Occupants</td>\n",
       "      <td>Oct 11, 2019</td>\n",
       "      <td>5.0</td>\n",
       "      <td>Lovingly presented with humour and kindness an...</td>\n",
       "    </tr>\n",
       "    <tr>\n",
       "      <th>1</th>\n",
       "      <td>Resistance Reborn</td>\n",
       "      <td>Feb 28, 2020</td>\n",
       "      <td>4.0</td>\n",
       "      <td>I read through this book quicker than anticip...</td>\n",
       "    </tr>\n",
       "    <tr>\n",
       "      <th>2</th>\n",
       "      <td>The Book of Two Ways</td>\n",
       "      <td>Jul 13, 2020</td>\n",
       "      <td>4.0</td>\n",
       "      <td>Jodi Picoult does it again in this new novel. ...</td>\n",
       "    </tr>\n",
       "    <tr>\n",
       "      <th>3</th>\n",
       "      <td>How to Write One Song: Loving the Things We Cr...</td>\n",
       "      <td>Feb 21, 2021</td>\n",
       "      <td>4.0</td>\n",
       "      <td>I’m a music freak without a shred of musical a...</td>\n",
       "    </tr>\n",
       "    <tr>\n",
       "      <th>4</th>\n",
       "      <td>The Giver of Stars</td>\n",
       "      <td>Sep 08, 2020</td>\n",
       "      <td>4.0</td>\n",
       "      <td>The Giver of Stars by Jojo Moyes won the Book ...</td>\n",
       "    </tr>\n",
       "  </tbody>\n",
       "</table>\n",
       "</div>"
      ],
      "text/plain": [
       "                                               title          date  rating  \\\n",
       "0                    The Body: A Guide for Occupants  Oct 11, 2019     5.0   \n",
       "1                                  Resistance Reborn  Feb 28, 2020     4.0   \n",
       "2                               The Book of Two Ways  Jul 13, 2020     4.0   \n",
       "3  How to Write One Song: Loving the Things We Cr...  Feb 21, 2021     4.0   \n",
       "4                                 The Giver of Stars  Sep 08, 2020     4.0   \n",
       "\n",
       "                                                body  \n",
       "0  Lovingly presented with humour and kindness an...  \n",
       "1   I read through this book quicker than anticip...  \n",
       "2  Jodi Picoult does it again in this new novel. ...  \n",
       "3  I’m a music freak without a shred of musical a...  \n",
       "4  The Giver of Stars by Jojo Moyes won the Book ...  "
      ]
     },
     "execution_count": 3,
     "metadata": {},
     "output_type": "execute_result"
    }
   ],
   "source": [
    "good_reads.head()"
   ]
  },
  {
   "cell_type": "code",
   "execution_count": 5,
   "metadata": {},
   "outputs": [
    {
     "data": {
      "text/plain": [
       "(8433, 4)"
      ]
     },
     "execution_count": 5,
     "metadata": {},
     "output_type": "execute_result"
    }
   ],
   "source": [
    "good_reads.shape"
   ]
  },
  {
   "cell_type": "code",
   "execution_count": 4,
   "metadata": {},
   "outputs": [
    {
     "data": {
      "text/plain": [
       "title       0\n",
       "date        4\n",
       "rating    290\n",
       "body        4\n",
       "dtype: int64"
      ]
     },
     "execution_count": 4,
     "metadata": {},
     "output_type": "execute_result"
    }
   ],
   "source": [
    "#Checking For Null Values\n",
    "good_reads.isnull().sum()"
   ]
  },
  {
   "cell_type": "code",
   "execution_count": 6,
   "metadata": {},
   "outputs": [],
   "source": [
    "#Dropping Null Values\n",
    "good_reads=good_reads.dropna()"
   ]
  },
  {
   "cell_type": "code",
   "execution_count": 7,
   "metadata": {},
   "outputs": [
    {
     "data": {
      "text/plain": [
       "(8139, 4)"
      ]
     },
     "execution_count": 7,
     "metadata": {},
     "output_type": "execute_result"
    }
   ],
   "source": [
    "good_reads.shape"
   ]
  },
  {
   "cell_type": "code",
   "execution_count": 8,
   "metadata": {},
   "outputs": [],
   "source": [
    "#Chaning review data of every row into string type\n",
    "for i in range(0,len(good_reads)-1):\n",
    "    if type(good_reads.iloc[i]['body']) != str:\n",
    "        good_reads.iloc[i]['body'] = str(good_reads.iloc[i]['body'])"
   ]
  },
  {
   "cell_type": "code",
   "execution_count": 9,
   "metadata": {},
   "outputs": [],
   "source": [
    "#function to represent sentiment -1(negetive);0(neutral);1(positive)\n",
    "def sentiment(n):\n",
    "    return 1 if n>=4 else (-1 if n<=2 else 0)"
   ]
  },
  {
   "cell_type": "code",
   "execution_count": 16,
   "metadata": {},
   "outputs": [],
   "source": [
    "#Applying Sentiment Function to our Data Frame\n",
    "good_reads['sentiment'] = good_reads['rating'].apply(sentiment)"
   ]
  },
  {
   "cell_type": "code",
   "execution_count": 18,
   "metadata": {},
   "outputs": [
    {
     "data": {
      "text/html": [
       "<div>\n",
       "<style scoped>\n",
       "    .dataframe tbody tr th:only-of-type {\n",
       "        vertical-align: middle;\n",
       "    }\n",
       "\n",
       "    .dataframe tbody tr th {\n",
       "        vertical-align: top;\n",
       "    }\n",
       "\n",
       "    .dataframe thead th {\n",
       "        text-align: right;\n",
       "    }\n",
       "</style>\n",
       "<table border=\"1\" class=\"dataframe\">\n",
       "  <thead>\n",
       "    <tr style=\"text-align: right;\">\n",
       "      <th></th>\n",
       "      <th>title</th>\n",
       "      <th>date</th>\n",
       "      <th>rating</th>\n",
       "      <th>body</th>\n",
       "      <th>sentiment</th>\n",
       "    </tr>\n",
       "  </thead>\n",
       "  <tbody>\n",
       "    <tr>\n",
       "      <th>8428</th>\n",
       "      <td>The Giver of Stars</td>\n",
       "      <td>Feb 12, 2020</td>\n",
       "      <td>5.0</td>\n",
       "      <td>I loved this book! Let me start by saying that...</td>\n",
       "      <td>1</td>\n",
       "    </tr>\n",
       "    <tr>\n",
       "      <th>8429</th>\n",
       "      <td>Minor Feelings: An Asian American Reckoning</td>\n",
       "      <td>May 21, 2020</td>\n",
       "      <td>4.0</td>\n",
       "      <td>What did i just read?I chose this title becaus...</td>\n",
       "      <td>1</td>\n",
       "    </tr>\n",
       "    <tr>\n",
       "      <th>8430</th>\n",
       "      <td>Trixie and Katya's Guide to Modern Womanhood</td>\n",
       "      <td>Oct 29, 2020</td>\n",
       "      <td>4.0</td>\n",
       "      <td>**3.45 stars ( if we were using a 10/10 scale ...</td>\n",
       "      <td>1</td>\n",
       "    </tr>\n",
       "    <tr>\n",
       "      <th>8431</th>\n",
       "      <td>To Wake the Giant: A Novel of Pearl Harbor</td>\n",
       "      <td>May 22, 2020</td>\n",
       "      <td>4.0</td>\n",
       "      <td>Thanks to Netgalley, Random House and Ballenti...</td>\n",
       "      <td>1</td>\n",
       "    </tr>\n",
       "    <tr>\n",
       "      <th>8432</th>\n",
       "      <td>Finding Ashley</td>\n",
       "      <td>Apr 14, 2021</td>\n",
       "      <td>4.0</td>\n",
       "      <td>Finding Ashley starts with Melissa working har...</td>\n",
       "      <td>1</td>\n",
       "    </tr>\n",
       "  </tbody>\n",
       "</table>\n",
       "</div>"
      ],
      "text/plain": [
       "                                             title          date  rating  \\\n",
       "8428                            The Giver of Stars  Feb 12, 2020     5.0   \n",
       "8429   Minor Feelings: An Asian American Reckoning  May 21, 2020     4.0   \n",
       "8430  Trixie and Katya's Guide to Modern Womanhood  Oct 29, 2020     4.0   \n",
       "8431    To Wake the Giant: A Novel of Pearl Harbor  May 22, 2020     4.0   \n",
       "8432                                Finding Ashley  Apr 14, 2021     4.0   \n",
       "\n",
       "                                                   body  sentiment  \n",
       "8428  I loved this book! Let me start by saying that...          1  \n",
       "8429  What did i just read?I chose this title becaus...          1  \n",
       "8430  **3.45 stars ( if we were using a 10/10 scale ...          1  \n",
       "8431  Thanks to Netgalley, Random House and Ballenti...          1  \n",
       "8432  Finding Ashley starts with Melissa working har...          1  "
      ]
     },
     "execution_count": 18,
     "metadata": {},
     "output_type": "execute_result"
    }
   ],
   "source": [
    "good_reads.tail()"
   ]
  },
  {
   "cell_type": "code",
   "execution_count": 19,
   "metadata": {},
   "outputs": [],
   "source": [
    "#Combineing features of Name and Body :\n",
    "\n",
    "def combined_features(row):\n",
    "    return row['title'] + ' '+ row['body']"
   ]
  },
  {
   "cell_type": "code",
   "execution_count": 21,
   "metadata": {},
   "outputs": [],
   "source": [
    "good_reads['reviews'] = good_reads.apply(combined_features, axis=1)"
   ]
  },
  {
   "cell_type": "code",
   "execution_count": 22,
   "metadata": {},
   "outputs": [
    {
     "data": {
      "text/html": [
       "<div>\n",
       "<style scoped>\n",
       "    .dataframe tbody tr th:only-of-type {\n",
       "        vertical-align: middle;\n",
       "    }\n",
       "\n",
       "    .dataframe tbody tr th {\n",
       "        vertical-align: top;\n",
       "    }\n",
       "\n",
       "    .dataframe thead th {\n",
       "        text-align: right;\n",
       "    }\n",
       "</style>\n",
       "<table border=\"1\" class=\"dataframe\">\n",
       "  <thead>\n",
       "    <tr style=\"text-align: right;\">\n",
       "      <th></th>\n",
       "      <th>title</th>\n",
       "      <th>date</th>\n",
       "      <th>rating</th>\n",
       "      <th>body</th>\n",
       "      <th>sentiment</th>\n",
       "      <th>reviews</th>\n",
       "    </tr>\n",
       "  </thead>\n",
       "  <tbody>\n",
       "    <tr>\n",
       "      <th>0</th>\n",
       "      <td>The Body: A Guide for Occupants</td>\n",
       "      <td>Oct 11, 2019</td>\n",
       "      <td>5.0</td>\n",
       "      <td>Lovingly presented with humour and kindness an...</td>\n",
       "      <td>1</td>\n",
       "      <td>The Body: A Guide for Occupants Lovingly prese...</td>\n",
       "    </tr>\n",
       "    <tr>\n",
       "      <th>1</th>\n",
       "      <td>Resistance Reborn</td>\n",
       "      <td>Feb 28, 2020</td>\n",
       "      <td>4.0</td>\n",
       "      <td>I read through this book quicker than anticip...</td>\n",
       "      <td>1</td>\n",
       "      <td>Resistance Reborn  I read through this book qu...</td>\n",
       "    </tr>\n",
       "    <tr>\n",
       "      <th>2</th>\n",
       "      <td>The Book of Two Ways</td>\n",
       "      <td>Jul 13, 2020</td>\n",
       "      <td>4.0</td>\n",
       "      <td>Jodi Picoult does it again in this new novel. ...</td>\n",
       "      <td>1</td>\n",
       "      <td>The Book of Two Ways Jodi Picoult does it agai...</td>\n",
       "    </tr>\n",
       "    <tr>\n",
       "      <th>3</th>\n",
       "      <td>How to Write One Song: Loving the Things We Cr...</td>\n",
       "      <td>Feb 21, 2021</td>\n",
       "      <td>4.0</td>\n",
       "      <td>I’m a music freak without a shred of musical a...</td>\n",
       "      <td>1</td>\n",
       "      <td>How to Write One Song: Loving the Things We Cr...</td>\n",
       "    </tr>\n",
       "    <tr>\n",
       "      <th>4</th>\n",
       "      <td>The Giver of Stars</td>\n",
       "      <td>Sep 08, 2020</td>\n",
       "      <td>4.0</td>\n",
       "      <td>The Giver of Stars by Jojo Moyes won the Book ...</td>\n",
       "      <td>1</td>\n",
       "      <td>The Giver of Stars The Giver of Stars by Jojo ...</td>\n",
       "    </tr>\n",
       "  </tbody>\n",
       "</table>\n",
       "</div>"
      ],
      "text/plain": [
       "                                               title          date  rating  \\\n",
       "0                    The Body: A Guide for Occupants  Oct 11, 2019     5.0   \n",
       "1                                  Resistance Reborn  Feb 28, 2020     4.0   \n",
       "2                               The Book of Two Ways  Jul 13, 2020     4.0   \n",
       "3  How to Write One Song: Loving the Things We Cr...  Feb 21, 2021     4.0   \n",
       "4                                 The Giver of Stars  Sep 08, 2020     4.0   \n",
       "\n",
       "                                                body  sentiment  \\\n",
       "0  Lovingly presented with humour and kindness an...          1   \n",
       "1   I read through this book quicker than anticip...          1   \n",
       "2  Jodi Picoult does it again in this new novel. ...          1   \n",
       "3  I’m a music freak without a shred of musical a...          1   \n",
       "4  The Giver of Stars by Jojo Moyes won the Book ...          1   \n",
       "\n",
       "                                             reviews  \n",
       "0  The Body: A Guide for Occupants Lovingly prese...  \n",
       "1  Resistance Reborn  I read through this book qu...  \n",
       "2  The Book of Two Ways Jodi Picoult does it agai...  \n",
       "3  How to Write One Song: Loving the Things We Cr...  \n",
       "4  The Giver of Stars The Giver of Stars by Jojo ...  "
      ]
     },
     "execution_count": 22,
     "metadata": {},
     "output_type": "execute_result"
    }
   ],
   "source": [
    "good_reads.head()"
   ]
  },
  {
   "cell_type": "code",
   "execution_count": 24,
   "metadata": {},
   "outputs": [],
   "source": [
    "#Spiliting Target and Features\n",
    "X = good_reads['reviews']\n",
    "y = good_reads['sentiment']"
   ]
  },
  {
   "cell_type": "code",
   "execution_count": 25,
   "metadata": {},
   "outputs": [],
   "source": [
    "#Spilting Test and Train data\n",
    "from sklearn.model_selection import train_test_split\n",
    "X_train, X_test, y_train, y_test = train_test_split(X, y,test_size=0.2, random_state=0)"
   ]
  },
  {
   "cell_type": "code",
   "execution_count": 23,
   "metadata": {},
   "outputs": [],
   "source": [
    "# Applyling some pre-processing on the given text.\n",
    "import re\n",
    "\n",
    "\n",
    "def clean_text(text):\n",
    "    \"\"\"\n",
    "    Steps :\n",
    "    - Removing HTML tags\n",
    "    - Removing punctuation\n",
    "    - Lowering text\n",
    "    \"\"\"\n",
    "    \n",
    "    # remove HTML tags\n",
    "    text = re.sub(r'<.*?>', '', text)\n",
    "    \n",
    "    # remove the characters [\\], ['] and [\"]\n",
    "    text = re.sub(r\"\\\\\", \"\", text)    \n",
    "    text = re.sub(r\"\\'\", \"\", text)    \n",
    "    text = re.sub(r\"\\\"\", \"\", text)    \n",
    "    \n",
    "    # convert text to lowercase\n",
    "    text = text.strip().lower()\n",
    "    \n",
    "    # replace punctuation characters with spaces\n",
    "    filters='!\"\\'#$%&()*+,-./:;<=>?@[\\\\]^_`{|}~\\t\\n'\n",
    "    translate_dict = dict((c, \" \") for c in filters)\n",
    "    translate_map = str.maketrans(translate_dict)\n",
    "    text = text.translate(translate_map)\n",
    "\n",
    "    return text"
   ]
  },
  {
   "cell_type": "code",
   "execution_count": 26,
   "metadata": {},
   "outputs": [],
   "source": [
    "#Using CountVectorizer to create bag of words\n",
    "from sklearn.feature_extraction.text import CountVectorizer\n",
    "\n",
    "vectorizer = CountVectorizer(stop_words=\"english\",preprocessor=clean_text)"
   ]
  },
  {
   "cell_type": "code",
   "execution_count": 27,
   "metadata": {},
   "outputs": [],
   "source": [
    "#Fitting Data into Count Vectorizer\n",
    "X_train_CV = vectorizer.fit_transform(X_train)\n",
    "X_test_CV = vectorizer.transform(X_test)"
   ]
  },
  {
   "cell_type": "code",
   "execution_count": 37,
   "metadata": {},
   "outputs": [
    {
     "data": {
      "text/plain": [
       "<6511x28838 sparse matrix of type '<class 'numpy.int64'>'\n",
       "\twith 411680 stored elements in Compressed Sparse Row format>"
      ]
     },
     "execution_count": 37,
     "metadata": {},
     "output_type": "execute_result"
    }
   ],
   "source": [
    "X_train_CV"
   ]
  },
  {
   "cell_type": "code",
   "execution_count": 28,
   "metadata": {},
   "outputs": [
    {
     "data": {
      "text/plain": [
       "MultinomialNB()"
      ]
     },
     "execution_count": 28,
     "metadata": {},
     "output_type": "execute_result"
    }
   ],
   "source": [
    "#Fitting Classifier Model\n",
    "from sklearn.naive_bayes import MultinomialNB\n",
    "model = MultinomialNB()\n",
    "model.fit(X_train_CV, y_train)"
   ]
  },
  {
   "cell_type": "code",
   "execution_count": 29,
   "metadata": {},
   "outputs": [],
   "source": [
    "#Predicting on X_test\n",
    "y_pred  =  model.predict(X_test_CV)"
   ]
  },
  {
   "cell_type": "code",
   "execution_count": 33,
   "metadata": {},
   "outputs": [
    {
     "data": {
      "text/plain": [
       "array([ 1,  1,  1, ...,  1, -1,  1], dtype=int64)"
      ]
     },
     "execution_count": 33,
     "metadata": {},
     "output_type": "execute_result"
    }
   ],
   "source": [
    "y_pred "
   ]
  },
  {
   "cell_type": "code",
   "execution_count": 38,
   "metadata": {},
   "outputs": [],
   "source": [
    "from sklearn.metrics import confusion_matrix,accuracy_score,classification_report\n",
    "cr = classification_report(y_test, y_pred)\n",
    "cm = confusion_matrix(y_test, y_pred)\n",
    "ac = accuracy_score(y_test,y_pred)"
   ]
  },
  {
   "cell_type": "code",
   "execution_count": 45,
   "metadata": {},
   "outputs": [
    {
     "name": "stdout",
     "output_type": "stream",
     "text": [
      "Classification Report :\n",
      "\n",
      "              precision    recall  f1-score   support\n",
      "\n",
      "          -1       0.50      0.31      0.39       197\n",
      "           0       0.35      0.20      0.26       277\n",
      "           1       0.80      0.93      0.86      1154\n",
      "\n",
      "    accuracy                           0.73      1628\n",
      "   macro avg       0.55      0.48      0.50      1628\n",
      "weighted avg       0.69      0.73      0.70      1628\n",
      "\n"
     ]
    }
   ],
   "source": [
    "#Classification Report\n",
    "print('Classification Report :\\n')\n",
    "print(cr)"
   ]
  },
  {
   "cell_type": "code",
   "execution_count": 46,
   "metadata": {},
   "outputs": [],
   "source": [
    "import seaborn as sn\n",
    "import matplotlib.pyplot as plt"
   ]
  },
  {
   "cell_type": "code",
   "execution_count": 48,
   "metadata": {},
   "outputs": [],
   "source": [
    "categories = [-1,0,1]"
   ]
  },
  {
   "cell_type": "code",
   "execution_count": 54,
   "metadata": {},
   "outputs": [
    {
     "data": {
      "image/png": "[encoded data removed]",
      "text/plain": [
       "<Figure size 432x288 with 2 Axes>"
      ]
     },
     "metadata": {},
     "output_type": "display_data"
    }
   ],
   "source": [
    "sn.set(font_scale=1.4) # for label size\n",
    "sn.heatmap(cm, annot=True) # font size\n",
    "\n",
    "plt.show()"
   ]
  },
  {
   "cell_type": "code",
   "execution_count": 31,
   "metadata": {},
   "outputs": [
    {
     "data": {
      "text/plain": [
       "array([[  62,   49,   86],\n",
       "       [  39,   56,  182],\n",
       "       [  23,   53, 1078]], dtype=int64)"
      ]
     },
     "execution_count": 31,
     "metadata": {},
     "output_type": "execute_result"
    }
   ],
   "source": [
    "cm"
   ]
  },
  {
   "cell_type": "code",
   "execution_count": 40,
   "metadata": {},
   "outputs": [
    {
     "name": "stdout",
     "output_type": "stream",
     "text": [
      "Accuracy of our Model is :  73.46437346437347\n"
     ]
    }
   ],
   "source": [
    "print('Accuracy of our Model is : ',ac*100)"
   ]
  },
  {
   "cell_type": "code",
   "execution_count": null,
   "metadata": {},
   "outputs": [],
   "source": [
    "#Can Be Improved by using deep learning techniques"
   ]
  }
 ],
 "metadata": {
  "kernelspec": {
   "display_name": "Python 3",
   "language": "python",
   "name": "python3"
  },
  "language_info": {
   "codemirror_mode": {
    "name": "ipython",
    "version": 3
   },
   "file_extension": ".py",
   "mimetype": "text/x-python",
   "name": "python",
   "nbconvert_exporter": "python",
   "pygments_lexer": "ipython3",
   "version": "3.8.5"
  }
 },
 "nbformat": 4,
 "nbformat_minor": 4
}
