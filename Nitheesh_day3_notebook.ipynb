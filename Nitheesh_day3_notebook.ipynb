{
 "cells": [
  {
   "cell_type": "markdown",
   "metadata": {},
   "source": [
    "# Scrapping Amazon Reviews"
   ]
  },
  {
   "cell_type": "code",
   "execution_count": 1,
   "metadata": {},
   "outputs": [],
   "source": [
    "from bs4 import BeautifulSoup\n",
    "import requests\n",
    "import pandas as pd\n",
    "from datetime import datetime"
   ]
  },
  {
   "cell_type": "code",
   "execution_count": 2,
   "metadata": {},
   "outputs": [],
   "source": [
    "links = pd.read_excel('dataset.xlsx')"
   ]
  },
  {
   "cell_type": "code",
   "execution_count": 3,
   "metadata": {},
   "outputs": [
    {
     "data": {
      "text/html": [
       "<div>\n",
       "<style scoped>\n",
       "    .dataframe tbody tr th:only-of-type {\n",
       "        vertical-align: middle;\n",
       "    }\n",
       "\n",
       "    .dataframe tbody tr th {\n",
       "        vertical-align: top;\n",
       "    }\n",
       "\n",
       "    .dataframe thead th {\n",
       "        text-align: right;\n",
       "    }\n",
       "</style>\n",
       "<table border=\"1\" class=\"dataframe\">\n",
       "  <thead>\n",
       "    <tr style=\"text-align: right;\">\n",
       "      <th></th>\n",
       "      <th>Book Title</th>\n",
       "      <th>Amazon link</th>\n",
       "      <th>Goodreads link</th>\n",
       "    </tr>\n",
       "  </thead>\n",
       "  <tbody>\n",
       "    <tr>\n",
       "      <th>0</th>\n",
       "      <td>Finding the Mother Tree</td>\n",
       "      <td>https://www.amazon.com/Finding-Mother-Tree-Dis...</td>\n",
       "      <td>https://www.goodreads.com/book/show/54976983-f...</td>\n",
       "    </tr>\n",
       "    <tr>\n",
       "      <th>1</th>\n",
       "      <td>Flashlight Night</td>\n",
       "      <td>https://www.amazon.com/Flashlight-Night-Advent...</td>\n",
       "      <td>https://www.goodreads.com/book/show/53370054-f...</td>\n",
       "    </tr>\n",
       "    <tr>\n",
       "      <th>2</th>\n",
       "      <td>Treason</td>\n",
       "      <td>https://www.amazon.com/Treason-Stone-Barringto...</td>\n",
       "      <td>https://www.goodreads.com/book/show/45213808-t...</td>\n",
       "    </tr>\n",
       "    <tr>\n",
       "      <th>3</th>\n",
       "      <td>The Giver of Stars</td>\n",
       "      <td>https://www.amazon.com/Giver-Stars-Novel-Jojo-...</td>\n",
       "      <td>https://www.goodreads.com/book/show/53258232-t...</td>\n",
       "    </tr>\n",
       "    <tr>\n",
       "      <th>4</th>\n",
       "      <td>Resistance Reborn (Star Wars)</td>\n",
       "      <td>https://www.amazon.com/Resistance-Reborn-Star-...</td>\n",
       "      <td>https://www.goodreads.com/book/show/45452530-r...</td>\n",
       "    </tr>\n",
       "  </tbody>\n",
       "</table>\n",
       "</div>"
      ],
      "text/plain": [
       "                      Book Title  \\\n",
       "0        Finding the Mother Tree   \n",
       "1               Flashlight Night   \n",
       "2                        Treason   \n",
       "3             The Giver of Stars   \n",
       "4  Resistance Reborn (Star Wars)   \n",
       "\n",
       "                                         Amazon link  \\\n",
       "0  https://www.amazon.com/Finding-Mother-Tree-Dis...   \n",
       "1  https://www.amazon.com/Flashlight-Night-Advent...   \n",
       "2  https://www.amazon.com/Treason-Stone-Barringto...   \n",
       "3  https://www.amazon.com/Giver-Stars-Novel-Jojo-...   \n",
       "4  https://www.amazon.com/Resistance-Reborn-Star-...   \n",
       "\n",
       "                                      Goodreads link  \n",
       "0  https://www.goodreads.com/book/show/54976983-f...  \n",
       "1  https://www.goodreads.com/book/show/53370054-f...  \n",
       "2  https://www.goodreads.com/book/show/45213808-t...  \n",
       "3  https://www.goodreads.com/book/show/53258232-t...  \n",
       "4  https://www.goodreads.com/book/show/45452530-r...  "
      ]
     },
     "execution_count": 3,
     "metadata": {},
     "output_type": "execute_result"
    }
   ],
   "source": [
    "links.head(5)"
   ]
  },
  {
   "cell_type": "code",
   "execution_count": 4,
   "metadata": {},
   "outputs": [],
   "source": [
    "amazon_links = links['Amazon link']"
   ]
  },
  {
   "cell_type": "code",
   "execution_count": 5,
   "metadata": {},
   "outputs": [],
   "source": [
    "data_asin=[]\n",
    "titles=[]"
   ]
  },
  {
   "cell_type": "code",
   "execution_count": 6,
   "metadata": {},
   "outputs": [],
   "source": [
    "for i in range (len(amazon_links)):\n",
    "    url=amazon_links[i]\n",
    "    asin=url.split(\"/dp/\")[1]\n",
    "    title=url.split(\"/dp/\")[0].split('.com/')[1]\n",
    "    titles.append(title)\n",
    "    data_asin.append(asin)"
   ]
  },
  {
   "cell_type": "code",
   "execution_count": 7,
   "metadata": {},
   "outputs": [],
   "source": [
    "base_urls=[]\n",
    "length = len(amazon_links)"
   ]
  },
  {
   "cell_type": "code",
   "execution_count": 8,
   "metadata": {},
   "outputs": [],
   "source": [
    "for i in range (length):\n",
    "    base_url='https://www.amazon.com/'+titles[i]+'/product-reviews/'+data_asin[i]+'ref=cm_cr_arp_d_paging_btm_next_2?ie=UTF8&reviewerType=all_reviews&pageNumber='\n",
    "    base_urls.append(base_url)"
   ]
  },
  {
   "cell_type": "code",
   "execution_count": 9,
   "metadata": {},
   "outputs": [],
   "source": [
    "def reviews(base_url):\n",
    "    reviews=[]\n",
    "    ratings=[]\n",
    "    review_dates=[]\n",
    "    HEADERS = ({'User-Agent':\n",
    "            'Mozilla/5.0 (X11; Linux x86_64) AppleWebKit/537.36 (KHTML, like Gecko) Chrome/44.0.2403.157 Safari/537.36',\n",
    "            'Accept-Language': 'en-US, en;q=0.5'})\n",
    "    for i in range (1,11):\n",
    "        URL = base_url+str(i)\n",
    "        webpage = requests.get(URL, headers=HEADERS)\n",
    "        soup = BeautifulSoup(webpage.content, \"lxml\")\n",
    "        review = soup.find_all(\"span\", attrs={'data-hook':'review-title'})\n",
    "        review_date = soup.find_all(\"span\", attrs={'data-hook':'review-date'})\n",
    "        rating = soup.find_all(\"span\", attrs={'class':'a-icon-alt'})\n",
    "    \n",
    "        for j in range(len(review)):\n",
    "            reviews.append(review[j].text)\n",
    "        for j in range(len(review_date)):\n",
    "            review_dates.append(review_date[j].string.strip())\n",
    "        for j in range(len(rating)):\n",
    "            ratings.append(rating[j].string.strip())\n",
    "        \n",
    "    for j in range(len(reviews)):\n",
    "        reviews[j]=reviews[j].strip('\\n')\n",
    "    \n",
    "    for j in range(len(ratings)):\n",
    "        ratings[j]=ratings[j].split()[0]\n",
    "    \n",
    "    for j in range(len(review_dates)):\n",
    "        review_dates[j]=review_dates[j].split('on')[1].strip()\n",
    "        review_dates[j]=datetime.strptime(review_dates[j],'%B %d, %Y').strftime('%Y-%m-%d')\n",
    "        \n",
    "    df=pd.DataFrame(list(zip(reviews,ratings,review_dates)),columns =['Review', 'Rating','Date'])\n",
    "    return df"
   ]
  },
  {
   "cell_type": "code",
   "execution_count": 10,
   "metadata": {},
   "outputs": [],
   "source": [
    "amazon_reviews={}"
   ]
  },
  {
   "cell_type": "code",
   "execution_count": 12,
   "metadata": {},
   "outputs": [],
   "source": [
    "for i in range (length):\n",
    "    df = reviews(base_urls[i])\n",
    "    d={titles[i]:df}\n",
    "    amazon_reviews.update(d)"
   ]
  },
  {
   "cell_type": "code",
   "execution_count": 14,
   "metadata": {},
   "outputs": [],
   "source": [
    "reviews=df_piece = pd.concat(amazon_reviews)"
   ]
  },
  {
   "cell_type": "code",
   "execution_count": 18,
   "metadata": {},
   "outputs": [],
   "source": [
    "reviews['sourec']='Amazon'"
   ]
  },
  {
   "cell_type": "code",
   "execution_count": 19,
   "metadata": {},
   "outputs": [
    {
     "data": {
      "text/html": [
       "<div>\n",
       "<style scoped>\n",
       "    .dataframe tbody tr th:only-of-type {\n",
       "        vertical-align: middle;\n",
       "    }\n",
       "\n",
       "    .dataframe tbody tr th {\n",
       "        vertical-align: top;\n",
       "    }\n",
       "\n",
       "    .dataframe thead th {\n",
       "        text-align: right;\n",
       "    }\n",
       "</style>\n",
       "<table border=\"1\" class=\"dataframe\">\n",
       "  <thead>\n",
       "    <tr style=\"text-align: right;\">\n",
       "      <th></th>\n",
       "      <th></th>\n",
       "      <th>Review</th>\n",
       "      <th>Rating</th>\n",
       "      <th>Date</th>\n",
       "      <th>sourec</th>\n",
       "    </tr>\n",
       "  </thead>\n",
       "  <tbody>\n",
       "    <tr>\n",
       "      <th rowspan=\"5\" valign=\"top\">Finding-Mother-Tree-Discovering-Wisdom</th>\n",
       "      <th>0</th>\n",
       "      <td>The Mother of all Tree Books, learn about how ...</td>\n",
       "      <td>4.6</td>\n",
       "      <td>2021-05-04</td>\n",
       "      <td>Amazon</td>\n",
       "    </tr>\n",
       "    <tr>\n",
       "      <th>1</th>\n",
       "      <td>I found the mother tree, I discovered the Wisd...</td>\n",
       "      <td>5.0</td>\n",
       "      <td>2021-05-04</td>\n",
       "      <td>Amazon</td>\n",
       "    </tr>\n",
       "    <tr>\n",
       "      <th>2</th>\n",
       "      <td>The Mother of all Tree Books, learn about how ...</td>\n",
       "      <td>1.0</td>\n",
       "      <td>2021-05-17</td>\n",
       "      <td>Amazon</td>\n",
       "    </tr>\n",
       "    <tr>\n",
       "      <th>3</th>\n",
       "      <td>I found the mother tree, I discovered the Wisd...</td>\n",
       "      <td>5.0</td>\n",
       "      <td>2021-05-09</td>\n",
       "      <td>Amazon</td>\n",
       "    </tr>\n",
       "    <tr>\n",
       "      <th>4</th>\n",
       "      <td>The Mother of all Tree Books, learn about how ...</td>\n",
       "      <td>5.0</td>\n",
       "      <td>2021-05-05</td>\n",
       "      <td>Amazon</td>\n",
       "    </tr>\n",
       "  </tbody>\n",
       "</table>\n",
       "</div>"
      ],
      "text/plain": [
       "                                                                                     Review  \\\n",
       "Finding-Mother-Tree-Discovering-Wisdom 0  The Mother of all Tree Books, learn about how ...   \n",
       "                                       1  I found the mother tree, I discovered the Wisd...   \n",
       "                                       2  The Mother of all Tree Books, learn about how ...   \n",
       "                                       3  I found the mother tree, I discovered the Wisd...   \n",
       "                                       4  The Mother of all Tree Books, learn about how ...   \n",
       "\n",
       "                                         Rating        Date  sourec  \n",
       "Finding-Mother-Tree-Discovering-Wisdom 0    4.6  2021-05-04  Amazon  \n",
       "                                       1    5.0  2021-05-04  Amazon  \n",
       "                                       2    1.0  2021-05-17  Amazon  \n",
       "                                       3    5.0  2021-05-09  Amazon  \n",
       "                                       4    5.0  2021-05-05  Amazon  "
      ]
     },
     "execution_count": 19,
     "metadata": {},
     "output_type": "execute_result"
    }
   ],
   "source": [
    "reviews.head()"
   ]
  },
  {
   "cell_type": "code",
   "execution_count": 20,
   "metadata": {},
   "outputs": [],
   "source": [
    "reviews.to_csv('amazon_review.csv',index=False)"
   ]
  },
  {
   "cell_type": "code",
   "execution_count": null,
   "metadata": {},
   "outputs": [],
   "source": []
  }
 ],
 "metadata": {
  "kernelspec": {
   "display_name": "Python 3",
   "language": "python",
   "name": "python3"
  },
  "language_info": {
   "codemirror_mode": {
    "name": "ipython",
    "version": 3
   },
   "file_extension": ".py",
   "mimetype": "text/x-python",
   "name": "python",
   "nbconvert_exporter": "python",
   "pygments_lexer": "ipython3",
   "version": "3.8.5"
  }
 },
 "nbformat": 4,
 "nbformat_minor": 4
}
